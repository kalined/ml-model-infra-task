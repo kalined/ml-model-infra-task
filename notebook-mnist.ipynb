{
 "cells": [
  {
   "cell_type": "code",
   "execution_count": 5,
   "id": "87b2892a",
   "metadata": {},
   "outputs": [
    {
     "name": "stdout",
     "output_type": "stream",
     "text": [
      "Epoch 1/5\n",
      "1875/1875 - 19s - 10ms/step - accuracy: 0.8953 - loss: 0.3678\n",
      "Epoch 2/5\n",
      "1875/1875 - 16s - 9ms/step - accuracy: 0.9123 - loss: 0.3150\n",
      "Epoch 3/5\n",
      "1875/1875 - 18s - 9ms/step - accuracy: 0.9134 - loss: 0.3168\n",
      "Epoch 4/5\n",
      "1875/1875 - 16s - 9ms/step - accuracy: 0.9119 - loss: 0.3271\n",
      "Epoch 5/5\n",
      "1875/1875 - 16s - 8ms/step - accuracy: 0.9105 - loss: 0.3415\n",
      "INFO:tensorflow:Assets written to: mnist_model/assets\n"
     ]
    },
    {
     "name": "stderr",
     "output_type": "stream",
     "text": [
      "INFO:tensorflow:Assets written to: mnist_model/assets\n"
     ]
    },
    {
     "name": "stdout",
     "output_type": "stream",
     "text": [
      "Saved artifact at 'mnist_model'. The following endpoints are available:\n",
      "\n",
      "* Endpoint 'serve'\n",
      "  args_0 (POSITIONAL_ONLY): TensorSpec(shape=(None, 28, 28), dtype=tf.float32, name='keras_tensor_12')\n",
      "Output Type:\n",
      "  TensorSpec(shape=(None, 10), dtype=tf.float32, name=None)\n",
      "Captures:\n",
      "  13428181520: TensorSpec(shape=(), dtype=tf.resource, name=None)\n",
      "  13428184400: TensorSpec(shape=(), dtype=tf.resource, name=None)\n",
      "  13428179408: TensorSpec(shape=(), dtype=tf.resource, name=None)\n",
      "  13428190928: TensorSpec(shape=(), dtype=tf.resource, name=None)\n",
      "\u001b[1m313/313\u001b[0m \u001b[32m━━━━━━━━━━━━━━━━━━━━\u001b[0m\u001b[37m\u001b[0m \u001b[1m2s\u001b[0m 5ms/step - accuracy: 0.8954 - loss: 0.3994\n",
      "Tikslumas: 90.82%\n"
     ]
    }
   ],
   "source": [
    "import tensorflow as tf\n",
    "from pathlib import Path\n",
    "from keras.models import Sequential\n",
    "from keras.layers import Input, Dense, Flatten\n",
    "from keras.datasets import mnist\n",
    "\n",
    "# Create dir structure\n",
    "base_img_dir = Path('mnist_images')\n",
    "\n",
    "for sub in ['test', 'training']:\n",
    "    (base_img_dir / sub).mkdir(parents=True, exist_ok=True)\n",
    "\n",
    "weeks_dir = base_img_dir / 'weeks'\n",
    "for i in range(1, 8):\n",
    "    (weeks_dir / f'week {i}').mkdir(parents=True, exist_ok=True)\n",
    "\n",
    "# Download and prepare the MNIST dataset\n",
    "(x_train, y_train), (x_test, y_test) = mnist.load_data()\n",
    "x_train, x_test = x_train / 255.0, x_test / 255.0\n",
    "\n",
    "model = Sequential([\n",
    "    Input(shape=(28, 28)),\n",
    "    Flatten(),\n",
    "    Dense(128, activation='relu'),\n",
    "    Dense(10, activation='softmax')\n",
    "])\n",
    "\n",
    "model.compile(optimizer='adam',\n",
    "              loss='sparse_categorical_crossentropy',\n",
    "              metrics=['accuracy'])\n",
    "\n",
    "model.fit(x_train, y_train, epochs=5, batch_size=32, verbose=2)\n",
    "\n",
    "# Save the model\n",
    "model.export('mnist_model')\n",
    "\n",
    "test_loss, test_acc = model.evaluate(x_test, y_test)\n",
    "print(f'Tikslumas: {test_acc * 100:.2f}%')"
   ]
  }
 ],
 "metadata": {
  "kernelspec": {
   "display_name": "venv-ml-task",
   "language": "python",
   "name": "python3"
  },
  "language_info": {
   "codemirror_mode": {
    "name": "ipython",
    "version": 3
   },
   "file_extension": ".py",
   "mimetype": "text/x-python",
   "name": "python",
   "nbconvert_exporter": "python",
   "pygments_lexer": "ipython3",
   "version": "3.11.13"
  }
 },
 "nbformat": 4,
 "nbformat_minor": 5
}
