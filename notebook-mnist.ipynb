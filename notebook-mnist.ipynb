{
 "cells": [
  {
   "cell_type": "code",
   "execution_count": null,
   "id": "114b0829",
   "metadata": {},
   "outputs": [],
   "source": [
    "from pathlib import Path\n",
    "\n",
    "# Create dir structure\n",
    "base_img_dir = Path('mnist_images')\n",
    "\n",
    "for sub in ['test', 'training']:\n",
    "    (base_img_dir / sub).mkdir(parents=True, exist_ok=True)\n",
    "\n",
    "weeks_dir = base_img_dir / 'weeks'\n",
    "for i in range(1, 8):\n",
    "    (weeks_dir / f'week {i}').mkdir(parents=True, exist_ok=True)"
   ]
  },
  {
   "cell_type": "code",
   "execution_count": 1,
   "id": "87b2892a",
   "metadata": {},
   "outputs": [
    {
     "name": "stdout",
     "output_type": "stream",
     "text": [
      "Using week directory: mnist_images/weeks/week 1\n",
      "x_train shape: (56000, 28, 28), x_test shape: (14000, 28, 28)\n",
      "y_train shape: (56000,), y_test shape: (14000,)\n"
     ]
    },
    {
     "name": "stderr",
     "output_type": "stream",
     "text": [
      "2025-06-11 16:49:47.933804: I metal_plugin/src/device/metal_device.cc:1154] Metal device set to: Apple M1\n",
      "2025-06-11 16:49:47.934430: I metal_plugin/src/device/metal_device.cc:296] systemMemory: 16.00 GB\n",
      "2025-06-11 16:49:47.934477: I metal_plugin/src/device/metal_device.cc:313] maxCacheSize: 5.33 GB\n",
      "WARNING: All log messages before absl::InitializeLog() is called are written to STDERR\n",
      "I0000 00:00:1749649787.934953 43169457 pluggable_device_factory.cc:305] Could not identify NUMA node of platform GPU ID 0, defaulting to 0. Your kernel may not have been built with NUMA support.\n",
      "I0000 00:00:1749649787.935206 43169457 pluggable_device_factory.cc:271] Created TensorFlow device (/job:localhost/replica:0/task:0/device:GPU:0 with 0 MB memory) -> physical PluggableDevice (device: 0, name: METAL, pci bus id: <undefined>)\n"
     ]
    },
    {
     "name": "stdout",
     "output_type": "stream",
     "text": [
      "Epoch 1/5\n"
     ]
    },
    {
     "name": "stderr",
     "output_type": "stream",
     "text": [
      "2025-06-11 16:49:49.434029: I tensorflow/core/grappler/optimizers/custom_graph_optimizer_registry.cc:117] Plugin optimizer for device_type GPU is enabled.\n"
     ]
    },
    {
     "name": "stdout",
     "output_type": "stream",
     "text": [
      "1750/1750 - 21s - 12ms/step - accuracy: 0.8943 - loss: 0.3703\n",
      "Epoch 2/5\n",
      "1750/1750 - 20s - 11ms/step - accuracy: 0.9142 - loss: 0.3113\n",
      "Epoch 3/5\n",
      "1750/1750 - 19s - 11ms/step - accuracy: 0.9138 - loss: 0.3132\n",
      "Epoch 4/5\n",
      "1750/1750 - 18s - 11ms/step - accuracy: 0.9116 - loss: 0.3256\n",
      "Epoch 5/5\n",
      "1750/1750 - 21s - 12ms/step - accuracy: 0.9099 - loss: 0.3379\n",
      "INFO:tensorflow:Assets written to: mnist_model/assets\n"
     ]
    },
    {
     "name": "stderr",
     "output_type": "stream",
     "text": [
      "INFO:tensorflow:Assets written to: mnist_model/assets\n"
     ]
    },
    {
     "name": "stdout",
     "output_type": "stream",
     "text": [
      "Saved artifact at 'mnist_model'. The following endpoints are available:\n",
      "\n",
      "* Endpoint 'serve'\n",
      "  args_0 (POSITIONAL_ONLY): TensorSpec(shape=(None, 28, 28), dtype=tf.float32, name='keras_tensor')\n",
      "Output Type:\n",
      "  TensorSpec(shape=(None, 10), dtype=tf.float32, name=None)\n",
      "Captures:\n",
      "  6300577680: TensorSpec(shape=(), dtype=tf.resource, name=None)\n",
      "  6334390800: TensorSpec(shape=(), dtype=tf.resource, name=None)\n",
      "  6334390224: TensorSpec(shape=(), dtype=tf.resource, name=None)\n",
      "  6334390608: TensorSpec(shape=(), dtype=tf.resource, name=None)\n",
      "\u001b[1m438/438\u001b[0m \u001b[32m━━━━━━━━━━━━━━━━━━━━\u001b[0m\u001b[37m\u001b[0m \u001b[1m3s\u001b[0m 5ms/step - accuracy: 0.9016 - loss: 0.3806\n",
      "Accuracy: 90.46%\n"
     ]
    }
   ],
   "source": [
    "import os\n",
    "import tensorflow as tf\n",
    "import numpy as np\n",
    "from pathlib import Path\n",
    "from keras.models import Sequential\n",
    "from keras.layers import Input, Dense, Flatten\n",
    "from sklearn.model_selection import train_test_split\n",
    "from PIL import Image\n",
    "\n",
    "# Get the week directory from the environment variable\n",
    "week = os.getenv('WEEK', 'week 1')  # Default to 'week 1'\n",
    "week_dir = Path(f'mnist_images/weeks/{week}')\n",
    "train_dir = Path('mnist_images/training')\n",
    "test_dir = Path('mnist_images/test')\n",
    "print(f\"Using week directory: {week_dir}\")\n",
    "\n",
    "train_dir.mkdir(parents=True, exist_ok=True)\n",
    "test_dir.mkdir(parents=True, exist_ok=True)\n",
    "\n",
    "image_paths = sorted(list(week_dir.glob('*.png')))\n",
    "images = []\n",
    "labels = []\n",
    "\n",
    "for img_path in image_paths:\n",
    "    img = Image.open(img_path).convert('L')  # Ensure grayscale\n",
    "    img_array = np.array(img) / 255.0        # Normalize\n",
    "    images.append(img_array)\n",
    "    # Parse label from filename, for example '00001_label_7.png'\n",
    "    label = int(img_path.stem.split('_')[-1])\n",
    "    labels.append(label)\n",
    "\n",
    "images = np.array(images)\n",
    "labels = np.array(labels)\n",
    "\n",
    "x_train, x_test, y_train, y_test = train_test_split(\n",
    "    images, labels, test_size=0.2, random_state=17, stratify=labels\n",
    ")\n",
    "\n",
    "for idx, (img, label) in enumerate(zip(x_train, y_train)):\n",
    "    img_uint8 = (img * 255).astype(np.uint8)  # Convert back to uint8 for saving\n",
    "    img_path = train_dir / f'{idx:05d}_label_{label}.png'\n",
    "    Image.fromarray(img_uint8).save(img_path)\n",
    "\n",
    "for idx, (img, label) in enumerate(zip(x_test, y_test)):\n",
    "    img_uint8 = (img * 255).astype(np.uint8)\n",
    "    img_path = test_dir / f'{idx:05d}_label_{label}.png'\n",
    "    Image.fromarray(img_uint8).save(img_path)\n",
    "\n",
    "print(f\"x_train shape: {x_train.shape}, x_test shape: {x_test.shape}\")\n",
    "print(f\"y_train shape: {y_train.shape}, y_test shape: {y_test.shape}\")\n",
    "\n",
    "model = Sequential([\n",
    "    Input(shape=(28, 28)),\n",
    "    Flatten(),\n",
    "    Dense(128, activation='relu'),\n",
    "    Dense(10, activation='softmax')\n",
    "])\n",
    "\n",
    "model.compile(optimizer='adam',\n",
    "              loss='sparse_categorical_crossentropy',\n",
    "              metrics=['accuracy'])\n",
    "\n",
    "model.fit(x_train, y_train, epochs=5, batch_size=32, verbose=2)\n",
    "\n",
    "# Save the model\n",
    "model.export('mnist_model')\n",
    "\n",
    "test_loss, test_acc = model.evaluate(x_test, y_test)\n",
    "print(f\"Accuracy: {test_acc * 100:.2f}%\")"
   ]
  }
 ],
 "metadata": {
  "kernelspec": {
   "display_name": "venv-ml-task",
   "language": "python",
   "name": "python3"
  },
  "language_info": {
   "codemirror_mode": {
    "name": "ipython",
    "version": 3
   },
   "file_extension": ".py",
   "mimetype": "text/x-python",
   "name": "python",
   "nbconvert_exporter": "python",
   "pygments_lexer": "ipython3",
   "version": "3.11.13"
  }
 },
 "nbformat": 4,
 "nbformat_minor": 5
}
