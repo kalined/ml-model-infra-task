{
 "cells": [
  {
   "cell_type": "code",
   "execution_count": null,
   "id": "114b0829",
   "metadata": {},
   "outputs": [],
   "source": [
    "from pathlib import Path\n",
    "\n",
    "# Create dir structure\n",
    "base_img_dir = Path('mnist_images')\n",
    "\n",
    "for sub in ['test', 'training']:\n",
    "    (base_img_dir / sub).mkdir(parents=True, exist_ok=True)\n",
    "\n",
    "weeks_dir = base_img_dir / 'weeks'\n",
    "for i in range(1, 8):\n",
    "    (weeks_dir / f'week {i}').mkdir(parents=True, exist_ok=True)"
   ]
  },
  {
   "cell_type": "code",
   "execution_count": 18,
   "id": "87b2892a",
   "metadata": {},
   "outputs": [
    {
     "name": "stdout",
     "output_type": "stream",
     "text": [
      "Using week directory: mnist_images/weeks/week 2\n",
      "x_train shape: (20520, 28, 28), x_test shape: (5131, 28, 28)\n",
      "y_train shape: (20520,), y_test shape: (5131,)\n",
      "Epoch 1/5\n",
      "642/642 - 11s - 17ms/step - accuracy: 0.8744 - loss: 0.4451\n",
      "Epoch 2/5\n",
      "642/642 - 10s - 15ms/step - accuracy: 0.9137 - loss: 0.3094\n",
      "Epoch 3/5\n",
      "642/642 - 9s - 14ms/step - accuracy: 0.9203 - loss: 0.2935\n",
      "Epoch 4/5\n",
      "642/642 - 7s - 12ms/step - accuracy: 0.9204 - loss: 0.2866\n",
      "Epoch 5/5\n",
      "642/642 - 6s - 9ms/step - accuracy: 0.9223 - loss: 0.2788\n"
     ]
    },
    {
     "name": "stderr",
     "output_type": "stream",
     "text": [
      "WARNING:absl:You are saving your model as an HDF5 file via `model.save()` or `keras.saving.save_model(model)`. This file format is considered legacy. We recommend using instead the native Keras format, e.g. `model.save('my_model.keras')` or `keras.saving.save_model(model, 'my_model.keras')`. \n"
     ]
    },
    {
     "name": "stdout",
     "output_type": "stream",
     "text": [
      "\u001b[1m161/161\u001b[0m \u001b[32m━━━━━━━━━━━━━━━━━━━━\u001b[0m\u001b[37m\u001b[0m \u001b[1m1s\u001b[0m 7ms/step - accuracy: 0.9073 - loss: 0.3494\n",
      "Accuracy: 90.90%\n"
     ]
    }
   ],
   "source": [
    "import os\n",
    "import tensorflow as tf\n",
    "import numpy as np\n",
    "from pathlib import Path\n",
    "from keras.models import Sequential\n",
    "from keras.layers import Input, Dense, Flatten\n",
    "from sklearn.model_selection import train_test_split\n",
    "from PIL import Image\n",
    "\n",
    "# Get the week directory from the environment variable\n",
    "week = os.getenv('WEEK', 'week 1')  # Default to 'week 1'\n",
    "week_dir = Path(f'mnist_images/weeks/{week}')\n",
    "train_dir = Path('mnist_images/training')\n",
    "test_dir = Path('mnist_images/test')\n",
    "print(f\"Using week directory: {week_dir}\")\n",
    "\n",
    "train_dir.mkdir(parents=True, exist_ok=True)\n",
    "test_dir.mkdir(parents=True, exist_ok=True)\n",
    "\n",
    "image_paths = sorted(list(week_dir.glob('*.png')))\n",
    "images = []\n",
    "labels = []\n",
    "\n",
    "for img_path in image_paths:\n",
    "    img = Image.open(img_path).convert('L')  # Ensure grayscale\n",
    "    img_array = np.array(img) / 255.0        # Normalize\n",
    "    images.append(img_array)\n",
    "    # Parse label from filename, for example '00001_label_7.png'\n",
    "    label = int(img_path.stem.split('_')[-1])\n",
    "    labels.append(label)\n",
    "\n",
    "images = np.array(images)\n",
    "labels = np.array(labels)\n",
    "\n",
    "x_train, x_test, y_train, y_test = train_test_split(\n",
    "    images, labels, test_size=0.2, random_state=17, stratify=labels\n",
    ")\n",
    "\n",
    "for idx, (img, label) in enumerate(zip(x_train, y_train)):\n",
    "    img_uint8 = (img * 255).astype(np.uint8)  # Convert back to uint8 for saving\n",
    "    img_path = train_dir / f'{idx:05d}_label_{label}.png'\n",
    "    Image.fromarray(img_uint8).save(img_path)\n",
    "\n",
    "for idx, (img, label) in enumerate(zip(x_test, y_test)):\n",
    "    img_uint8 = (img * 255).astype(np.uint8)\n",
    "    img_path = test_dir / f'{idx:05d}_label_{label}.png'\n",
    "    Image.fromarray(img_uint8).save(img_path)\n",
    "\n",
    "print(f\"x_train shape: {x_train.shape}, x_test shape: {x_test.shape}\")\n",
    "print(f\"y_train shape: {y_train.shape}, y_test shape: {y_test.shape}\")\n",
    "\n",
    "model = Sequential([\n",
    "    Input(shape=(28, 28)),\n",
    "    Flatten(),\n",
    "    Dense(128, activation='relu'),\n",
    "    Dense(10, activation='softmax')\n",
    "])\n",
    "\n",
    "model.compile(optimizer='adam',\n",
    "              loss='sparse_categorical_crossentropy',\n",
    "              metrics=['accuracy'])\n",
    "\n",
    "model.fit(x_train, y_train, epochs=5, batch_size=32, verbose=2)\n",
    "\n",
    "# Save the model\n",
    "model.save('mnist_model.h5')\n",
    "\n",
    "test_loss, test_acc = model.evaluate(x_test, y_test)\n",
    "print(f\"Accuracy: {test_acc * 100:.2f}%\")"
   ]
  }
 ],
 "metadata": {
  "kernelspec": {
   "display_name": "venv-ml-task",
   "language": "python",
   "name": "python3"
  },
  "language_info": {
   "codemirror_mode": {
    "name": "ipython",
    "version": 3
   },
   "file_extension": ".py",
   "mimetype": "text/x-python",
   "name": "python",
   "nbconvert_exporter": "python",
   "pygments_lexer": "ipython3",
   "version": "3.11.13"
  }
 },
 "nbformat": 4,
 "nbformat_minor": 5
}
